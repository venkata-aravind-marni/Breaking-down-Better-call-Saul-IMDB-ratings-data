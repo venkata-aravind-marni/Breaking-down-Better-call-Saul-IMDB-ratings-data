{
 "cells": [
  {
   "cell_type": "markdown",
   "id": "ade6943d-ab7f-4209-80a6-a06b533ad1fb",
   "metadata": {},
   "source": [
    "<h1>Web Scraping</h1>\n",
    "<p>Web scraping (or data scraping) is a technique used to collect content and data from the internet.</p>\n",
    "<p>I found a tonne of tutorials on the internet to scrape movie ratings from IMDB but I haven’t found any about scraping episode ratings of all Seasons of a TV series.</p>\n",
    "<p>So, I'm writing this to make your life easier.</p>\n",
    "<p>In this tutorial we’ll learn to scrape multiple web pages with Python using BeautifulSoup and requests to get imdb data from all seasons of Better Call Saul. We’ll then perform some simple analysis using pandas, and matplotlib.</p>"
   ]
  },
  {
   "cell_type": "markdown",
   "id": "6ff6f388-f838-45ba-adde-9ea701523069",
   "metadata": {},
   "source": [
    "<h2>Breaking drown Scrapping Better Call Saul IMDB ratings</h2>\n",
    "<p>Get the url of that page. It should be structured like this:<br>\n",
    "    https://www.imdb.com/title/tt3032476/episodes?season=1<br>\n",
    "First, we will request the content of the web page by using get() method, and store the server’s response in the variable. The response is HTML code of webpage</p>"
   ]
  },
  {
   "cell_type": "code",
   "execution_count": 164,
   "id": "75fa755b-6a83-4760-bc27-b40a3edc0997",
   "metadata": {
    "tags": []
   },
   "outputs": [
    {
     "name": "stdout",
     "output_type": "stream",
     "text": [
      "\n",
      " \n",
      "\n",
      "\n",
      "\n",
      "\n",
      "\n",
      "\n",
      "\n",
      "\n",
      "\n",
      "\n",
      "<!DOCTYPE html>\n",
      "<html\n",
      "    xmlns:og=\"http://ogp.me/ns#\"\n",
      "    xmlns:fb=\"http://www.facebook.com/2008/fbml\">\n",
      "    <head>\n",
      "         \n",
      "\n",
      "        <meta charset=\"utf-8\">\n",
      "\n",
      "\n",
      "\n",
      "\n",
      "        <script type=\"text/javascript\">var IMDbTimer={starttime: new Date().getTime(),pt:'java'};</script>\n",
      "\n",
      "<script>\n",
      "    if (\n"
     ]
    }
   ],
   "source": [
    "from requests import get\n",
    "url = 'https://www.imdb.com/title/tt3032476/episodes?season=1'\n",
    "response = get(url)\n",
    "print(response.text[:300])"
   ]
  },
  {
   "cell_type": "markdown",
   "id": "018ac05c-bd58-400d-8d26-07469be77bb3",
   "metadata": {},
   "source": [
    "<h2>BeautifulSoup</h2>\n",
    "<p>Beautiful Soup is a Python package for parsing HTML and XML documents. \n",
    "It creates a parse tree for parsed pages that can be used to extract data from HTML, which is useful for web scraping.</p>\n",
    "<p>We’ll parse response.text by creating a BeautifulSoup object, and assign this object to html_soup. The html.parser argument indicates that we want to do the parsing using Python’s built-in HTML parser.</p>"
   ]
  },
  {
   "cell_type": "code",
   "execution_count": 165,
   "id": "faf52d25-0fc5-48de-a270-defbae62f090",
   "metadata": {},
   "outputs": [
    {
     "data": {
      "text/plain": [
       "bs4.BeautifulSoup"
      ]
     },
     "execution_count": 165,
     "metadata": {},
     "output_type": "execute_result"
    }
   ],
   "source": [
    "from bs4 import BeautifulSoup\n",
    "\n",
    "html_soup = BeautifulSoup(response.text, 'html.parser')\n",
    "type(html_soup)"
   ]
  },
  {
   "cell_type": "markdown",
   "id": "200b2ede-b963-4298-92a2-46763ee9395d",
   "metadata": {},
   "source": [
    "<p>I need to parse the site to get the following data</p>\n",
    "<ul>\n",
    "  <li>Episode title</li>\n",
    "  <li>Episode number</li>\n",
    "  <li>Airdate</li>\n",
    "  <li>IMDb rating</li>\n",
    "  <li>Total votes</li>\n",
    "  <li>Episode description</li>\n",
    "</ul>  \n",
    "\n",
    "<p>We will grab all of the instances of-  div class=\"info\" ... from the page. There is one for each episode.</p>"
   ]
  },
  {
   "cell_type": "code",
   "execution_count": 166,
   "id": "667ed3f9-83cf-4979-8e57-6b1684f7816c",
   "metadata": {
    "tags": []
   },
   "outputs": [],
   "source": [
    "episode_containers = html_soup.find_all('div', class_='info')\n",
    "# print(episode_containers[0])"
   ]
  },
  {
   "cell_type": "markdown",
   "id": "c522def2-0046-43f8-9de4-7dee3571d73b",
   "metadata": {},
   "source": [
    "<h2>Extracting each variable that we need</h2>\n",
    "<h3>Episode title</h3>\n",
    "<p>To get the title we need to call title attribute from the a tag.\n",
    "<p>"
   ]
  },
  {
   "cell_type": "code",
   "execution_count": 167,
   "id": "e34de78d-9fca-42ea-b8f4-30d944472bdf",
   "metadata": {},
   "outputs": [
    {
     "data": {
      "text/plain": [
       "'Uno'"
      ]
     },
     "execution_count": 167,
     "metadata": {},
     "output_type": "execute_result"
    }
   ],
   "source": [
    "episode_containers[0].a['title']"
   ]
  },
  {
   "cell_type": "markdown",
   "id": "4e0d829c-e949-4853-a308-234486e12f0e",
   "metadata": {},
   "source": [
    "<h3>Episode number</h3>\n",
    "<p>Episode number in the meta tag, under the content attribute.</p>"
   ]
  },
  {
   "cell_type": "code",
   "execution_count": 168,
   "id": "3698aa25-d7a3-49af-bac6-c52224da1bbf",
   "metadata": {},
   "outputs": [
    {
     "data": {
      "text/plain": [
       "'1'"
      ]
     },
     "execution_count": 168,
     "metadata": {},
     "output_type": "execute_result"
    }
   ],
   "source": [
    "episode_containers[0].meta['content']"
   ]
  },
  {
   "cell_type": "markdown",
   "id": "cec8f95a-565a-486b-aa69-1f936e2453fc",
   "metadata": {},
   "source": [
    "<h3>Airdate</h3>\n",
    "<p>Airdate is in the div tag with the class airdate, and we can get its contents the text attribute, afterwhich we strip() it to remove whitespace.</p>"
   ]
  },
  {
   "cell_type": "code",
   "execution_count": 169,
   "id": "6cb5a55e-0a10-4616-b9d1-2aa860652576",
   "metadata": {},
   "outputs": [
    {
     "data": {
      "text/plain": [
       "'4 Oct. 2017'"
      ]
     },
     "execution_count": 169,
     "metadata": {},
     "output_type": "execute_result"
    }
   ],
   "source": [
    "episode_containers[0].find('div', class_='airdate').text.strip()"
   ]
  },
  {
   "cell_type": "markdown",
   "id": "3f638593-9747-4aec-b7d4-9a3f39248a96",
   "metadata": {},
   "source": [
    "<h3>IMDb rating</h3>\n",
    "<p>IMDB rating is is in the span tag with the class ipl-rating-star__rating.</p>"
   ]
  },
  {
   "cell_type": "code",
   "execution_count": 170,
   "id": "d0f8ff69-93e9-43f2-b327-ee89ef832be6",
   "metadata": {},
   "outputs": [
    {
     "data": {
      "text/plain": [
       "'8.5'"
      ]
     },
     "execution_count": 170,
     "metadata": {},
     "output_type": "execute_result"
    }
   ],
   "source": [
    "episode_containers[0].find('span', class_='ipl-rating-star__rating').text"
   ]
  },
  {
   "cell_type": "markdown",
   "id": "280cafc8-75d1-4b63-b8e4-50aeca19d26e",
   "metadata": {},
   "source": [
    "<h3>Total votes</h3>"
   ]
  },
  {
   "cell_type": "code",
   "execution_count": 171,
   "id": "9d75ef56-c292-4785-bc64-817211bbbb31",
   "metadata": {},
   "outputs": [
    {
     "data": {
      "text/plain": [
       "'(18,386)'"
      ]
     },
     "execution_count": 171,
     "metadata": {},
     "output_type": "execute_result"
    }
   ],
   "source": [
    "episode_containers[0].find('span', class_='ipl-rating-star__total-votes').text"
   ]
  },
  {
   "cell_type": "markdown",
   "id": "a460d91f-34c5-43bf-ad51-ebd6ed3ee0c9",
   "metadata": {},
   "source": [
    "<h3>Episode Description</h3>"
   ]
  },
  {
   "cell_type": "code",
   "execution_count": 172,
   "id": "248cedaf-cc16-4610-9ac7-804db5f040ea",
   "metadata": {},
   "outputs": [
    {
     "data": {
      "text/plain": [
       "'Struggling public defender Jimmy McGill constructs an elaborate yet questionable plan for winning back a pair of wealthy potential clients.'"
      ]
     },
     "execution_count": 172,
     "metadata": {},
     "output_type": "execute_result"
    }
   ],
   "source": [
    "episode_containers[0].find('div', class_='item_description').text.strip()"
   ]
  },
  {
   "cell_type": "markdown",
   "id": "d53ee27d-9c89-4eed-868e-56ac17a136df",
   "metadata": {},
   "source": [
    "<h2>Final code– Putting it all together</h2>\n",
    "<p>We can now use for loop to get data from all seasons</p>"
   ]
  },
  {
   "cell_type": "code",
   "execution_count": 173,
   "id": "26e84545-55b8-454c-86eb-76e0a9cc69ba",
   "metadata": {},
   "outputs": [],
   "source": [
    "# Initializing the series that the loop will populate\n",
    "better_call_saul_episodes = []\n",
    "\n",
    "# For every season in the series-- range depends on the show\n",
    "for sn in range(1,7):\n",
    "    # Request from the server the content of the web page by using get(), and store the server’s response in the variable response\n",
    "    response = get('https://www.imdb.com/title/tt3032476/episodes?season=' + str(sn))\n",
    "\n",
    "    # Parse the content of the request with BeautifulSoup\n",
    "    page_html = BeautifulSoup(response.text, 'html.parser')\n",
    "\n",
    "    # Select all the episode containers from the season's page\n",
    "    episode_containers = page_html.find_all('div', class_ = 'info')\n",
    "\n",
    "    # For each episode in each season\n",
    "    for episodes in episode_containers:\n",
    "            # Get the info of each episode on the page\n",
    "            season = sn\n",
    "            episode_number = episodes.meta['content']\n",
    "            title = episodes.a['title']\n",
    "            airdate = episodes.find('div', class_='airdate').text.strip()\n",
    "            rating = episodes.find('span', class_='ipl-rating-star__rating').text\n",
    "            total_votes = episodes.find('span', class_='ipl-rating-star__total-votes').text\n",
    "            desc = episodes.find('div', class_='item_description').text.strip()\n",
    "            # Compiling the episode info\n",
    "            episode_data = [season, episode_number, title, airdate, rating, total_votes, desc]\n",
    "\n",
    "            # Append the episode info to the complete dataset\n",
    "            better_call_saul_episodes.append(episode_data)       "
   ]
  },
  {
   "cell_type": "markdown",
   "id": "6c265727-9284-425f-9125-7f1a4ffd41f5",
   "metadata": {},
   "source": [
    "<h2>Making the dataframe</h2>\n",
    "<p>A Pandas DataFrame is a 2 dimensional data structure, like a 2 dimensional array, or a table with rows and columns.</p>"
   ]
  },
  {
   "cell_type": "code",
   "execution_count": 174,
   "id": "8b38a4b6-7c25-422c-8449-724348c28973",
   "metadata": {},
   "outputs": [
    {
     "data": {
      "text/html": [
       "<div>\n",
       "<style scoped>\n",
       "    .dataframe tbody tr th:only-of-type {\n",
       "        vertical-align: middle;\n",
       "    }\n",
       "\n",
       "    .dataframe tbody tr th {\n",
       "        vertical-align: top;\n",
       "    }\n",
       "\n",
       "    .dataframe thead th {\n",
       "        text-align: right;\n",
       "    }\n",
       "</style>\n",
       "<table border=\"1\" class=\"dataframe\">\n",
       "  <thead>\n",
       "    <tr style=\"text-align: right;\">\n",
       "      <th></th>\n",
       "      <th>season</th>\n",
       "      <th>episode_number</th>\n",
       "      <th>title</th>\n",
       "      <th>airdate</th>\n",
       "      <th>rating</th>\n",
       "      <th>total_votes</th>\n",
       "      <th>description</th>\n",
       "    </tr>\n",
       "  </thead>\n",
       "  <tbody>\n",
       "    <tr>\n",
       "      <th>0</th>\n",
       "      <td>1</td>\n",
       "      <td>1</td>\n",
       "      <td>Uno</td>\n",
       "      <td>4 Oct. 2017</td>\n",
       "      <td>8.5</td>\n",
       "      <td>(18,386)</td>\n",
       "      <td>Struggling public defender Jimmy McGill constr...</td>\n",
       "    </tr>\n",
       "    <tr>\n",
       "      <th>1</th>\n",
       "      <td>1</td>\n",
       "      <td>2</td>\n",
       "      <td>Mijo</td>\n",
       "      <td>9 Feb. 2015</td>\n",
       "      <td>8.9</td>\n",
       "      <td>(17,409)</td>\n",
       "      <td>Jimmy's latest scam has gone horribly wrong an...</td>\n",
       "    </tr>\n",
       "    <tr>\n",
       "      <th>2</th>\n",
       "      <td>1</td>\n",
       "      <td>3</td>\n",
       "      <td>Nacho</td>\n",
       "      <td>16 Feb. 2015</td>\n",
       "      <td>8.7</td>\n",
       "      <td>(14,709)</td>\n",
       "      <td>Jimmy must prove that Nacho is innocent when h...</td>\n",
       "    </tr>\n",
       "    <tr>\n",
       "      <th>3</th>\n",
       "      <td>1</td>\n",
       "      <td>4</td>\n",
       "      <td>Hero</td>\n",
       "      <td>23 Feb. 2015</td>\n",
       "      <td>8.4</td>\n",
       "      <td>(13,260)</td>\n",
       "      <td>Jimmy makes a bold move against Hamlin in an e...</td>\n",
       "    </tr>\n",
       "    <tr>\n",
       "      <th>4</th>\n",
       "      <td>1</td>\n",
       "      <td>5</td>\n",
       "      <td>Alpine Shepherd Boy</td>\n",
       "      <td>2 Mar. 2015</td>\n",
       "      <td>8.0</td>\n",
       "      <td>(12,759)</td>\n",
       "      <td>After a strange encounter with the police, Chu...</td>\n",
       "    </tr>\n",
       "  </tbody>\n",
       "</table>\n",
       "</div>"
      ],
      "text/plain": [
       "   season episode_number                title       airdate rating  \\\n",
       "0       1              1                  Uno   4 Oct. 2017    8.5   \n",
       "1       1              2                 Mijo   9 Feb. 2015    8.9   \n",
       "2       1              3                Nacho  16 Feb. 2015    8.7   \n",
       "3       1              4                 Hero  23 Feb. 2015    8.4   \n",
       "4       1              5  Alpine Shepherd Boy   2 Mar. 2015    8.0   \n",
       "\n",
       "  total_votes                                        description  \n",
       "0    (18,386)  Struggling public defender Jimmy McGill constr...  \n",
       "1    (17,409)  Jimmy's latest scam has gone horribly wrong an...  \n",
       "2    (14,709)  Jimmy must prove that Nacho is innocent when h...  \n",
       "3    (13,260)  Jimmy makes a bold move against Hamlin in an e...  \n",
       "4    (12,759)  After a strange encounter with the police, Chu...  "
      ]
     },
     "execution_count": 174,
     "metadata": {},
     "output_type": "execute_result"
    }
   ],
   "source": [
    "import pandas as pd \n",
    "better_call_saul_episodes = pd.DataFrame(better_call_saul_episodes, columns = ['season', 'episode_number', 'title', 'airdate', 'rating', 'total_votes', 'description'])\n",
    "better_call_saul_episodes.head()"
   ]
  },
  {
   "cell_type": "markdown",
   "id": "3ab6f6a5-8c62-4376-bf17-bfba287f2346",
   "metadata": {},
   "source": [
    "<h2>Data Cleaning</h2>\n",
    "<p>In this step we change the data into our required format, and modify datatypes to make our lives easier further down the road.</p>"
   ]
  },
  {
   "cell_type": "code",
   "execution_count": 175,
   "id": "ad48f84c-70a3-404c-9d03-c9d12cae8d33",
   "metadata": {},
   "outputs": [],
   "source": [
    "def remove_str(votes):\n",
    "    for r in ((',',''), ('(',''),(')','')):\n",
    "        votes = votes.replace(*r)\n",
    "        \n",
    "    return votes"
   ]
  },
  {
   "cell_type": "code",
   "execution_count": 176,
   "id": "6966a1a1-3b3a-4db4-b928-f898dec754ca",
   "metadata": {},
   "outputs": [
    {
     "data": {
      "text/html": [
       "<div>\n",
       "<style scoped>\n",
       "    .dataframe tbody tr th:only-of-type {\n",
       "        vertical-align: middle;\n",
       "    }\n",
       "\n",
       "    .dataframe tbody tr th {\n",
       "        vertical-align: top;\n",
       "    }\n",
       "\n",
       "    .dataframe thead th {\n",
       "        text-align: right;\n",
       "    }\n",
       "</style>\n",
       "<table border=\"1\" class=\"dataframe\">\n",
       "  <thead>\n",
       "    <tr style=\"text-align: right;\">\n",
       "      <th></th>\n",
       "      <th>season</th>\n",
       "      <th>episode_number</th>\n",
       "      <th>title</th>\n",
       "      <th>airdate</th>\n",
       "      <th>rating</th>\n",
       "      <th>total_votes</th>\n",
       "      <th>description</th>\n",
       "    </tr>\n",
       "  </thead>\n",
       "  <tbody>\n",
       "    <tr>\n",
       "      <th>0</th>\n",
       "      <td>1</td>\n",
       "      <td>1</td>\n",
       "      <td>Uno</td>\n",
       "      <td>4 Oct. 2017</td>\n",
       "      <td>8.5</td>\n",
       "      <td>18386</td>\n",
       "      <td>Struggling public defender Jimmy McGill constr...</td>\n",
       "    </tr>\n",
       "    <tr>\n",
       "      <th>1</th>\n",
       "      <td>1</td>\n",
       "      <td>2</td>\n",
       "      <td>Mijo</td>\n",
       "      <td>9 Feb. 2015</td>\n",
       "      <td>8.9</td>\n",
       "      <td>17409</td>\n",
       "      <td>Jimmy's latest scam has gone horribly wrong an...</td>\n",
       "    </tr>\n",
       "    <tr>\n",
       "      <th>2</th>\n",
       "      <td>1</td>\n",
       "      <td>3</td>\n",
       "      <td>Nacho</td>\n",
       "      <td>16 Feb. 2015</td>\n",
       "      <td>8.7</td>\n",
       "      <td>14709</td>\n",
       "      <td>Jimmy must prove that Nacho is innocent when h...</td>\n",
       "    </tr>\n",
       "    <tr>\n",
       "      <th>3</th>\n",
       "      <td>1</td>\n",
       "      <td>4</td>\n",
       "      <td>Hero</td>\n",
       "      <td>23 Feb. 2015</td>\n",
       "      <td>8.4</td>\n",
       "      <td>13260</td>\n",
       "      <td>Jimmy makes a bold move against Hamlin in an e...</td>\n",
       "    </tr>\n",
       "    <tr>\n",
       "      <th>4</th>\n",
       "      <td>1</td>\n",
       "      <td>5</td>\n",
       "      <td>Alpine Shepherd Boy</td>\n",
       "      <td>2 Mar. 2015</td>\n",
       "      <td>8.0</td>\n",
       "      <td>12759</td>\n",
       "      <td>After a strange encounter with the police, Chu...</td>\n",
       "    </tr>\n",
       "  </tbody>\n",
       "</table>\n",
       "</div>"
      ],
      "text/plain": [
       "   season episode_number                title       airdate rating  \\\n",
       "0       1              1                  Uno   4 Oct. 2017    8.5   \n",
       "1       1              2                 Mijo   9 Feb. 2015    8.9   \n",
       "2       1              3                Nacho  16 Feb. 2015    8.7   \n",
       "3       1              4                 Hero  23 Feb. 2015    8.4   \n",
       "4       1              5  Alpine Shepherd Boy   2 Mar. 2015    8.0   \n",
       "\n",
       "   total_votes                                        description  \n",
       "0        18386  Struggling public defender Jimmy McGill constr...  \n",
       "1        17409  Jimmy's latest scam has gone horribly wrong an...  \n",
       "2        14709  Jimmy must prove that Nacho is innocent when h...  \n",
       "3        13260  Jimmy makes a bold move against Hamlin in an e...  \n",
       "4        12759  After a strange encounter with the police, Chu...  "
      ]
     },
     "execution_count": 176,
     "metadata": {},
     "output_type": "execute_result"
    }
   ],
   "source": [
    "better_call_saul_episodes['total_votes'] = better_call_saul_episodes.total_votes.apply(remove_str).astype(int)\n",
    "\n",
    "better_call_saul_episodes.head()"
   ]
  },
  {
   "cell_type": "code",
   "execution_count": 177,
   "id": "aff393d4-c234-47ca-8aa6-d0a6e5fbec29",
   "metadata": {},
   "outputs": [],
   "source": [
    "better_call_saul_episodes['rating'] = better_call_saul_episodes.rating.astype(float)\n",
    "better_call_saul_episodes['episode_number']=better_call_saul_episodes['episode_number'].apply(lambda x: '{0:0>2}'.format(x))\n",
    "better_call_saul_episodes['episode'] = 'S'+better_call_saul_episodes['season'].astype(str)+', ' +'Ep'+ better_call_saul_episodes['episode_number'].astype(str)"
   ]
  },
  {
   "cell_type": "code",
   "execution_count": 178,
   "id": "0e38f3e4-f990-483f-8c45-2245081ec5a0",
   "metadata": {},
   "outputs": [
    {
     "name": "stdout",
     "output_type": "stream",
     "text": [
      "<class 'pandas.core.frame.DataFrame'>\n",
      "RangeIndex: 63 entries, 0 to 62\n",
      "Data columns (total 8 columns):\n",
      " #   Column          Non-Null Count  Dtype         \n",
      "---  ------          --------------  -----         \n",
      " 0   season          63 non-null     int64         \n",
      " 1   episode_number  63 non-null     object        \n",
      " 2   title           63 non-null     object        \n",
      " 3   airdate         63 non-null     datetime64[ns]\n",
      " 4   rating          63 non-null     float64       \n",
      " 5   total_votes     63 non-null     int32         \n",
      " 6   description     63 non-null     object        \n",
      " 7   episode         63 non-null     object        \n",
      "dtypes: datetime64[ns](1), float64(1), int32(1), int64(1), object(4)\n",
      "memory usage: 3.8+ KB\n"
     ]
    }
   ],
   "source": [
    "better_call_saul_episodes['airdate'] = pd.to_datetime(better_call_saul_episodes.airdate)\n",
    "better_call_saul_episodes.info()"
   ]
  },
  {
   "cell_type": "code",
   "execution_count": 179,
   "id": "6ab236ae-fcf7-4040-b008-4fcf7e8bc34c",
   "metadata": {},
   "outputs": [
    {
     "data": {
      "text/html": [
       "<div>\n",
       "<style scoped>\n",
       "    .dataframe tbody tr th:only-of-type {\n",
       "        vertical-align: middle;\n",
       "    }\n",
       "\n",
       "    .dataframe tbody tr th {\n",
       "        vertical-align: top;\n",
       "    }\n",
       "\n",
       "    .dataframe thead th {\n",
       "        text-align: right;\n",
       "    }\n",
       "</style>\n",
       "<table border=\"1\" class=\"dataframe\">\n",
       "  <thead>\n",
       "    <tr style=\"text-align: right;\">\n",
       "      <th></th>\n",
       "      <th>season</th>\n",
       "      <th>episode_number</th>\n",
       "      <th>title</th>\n",
       "      <th>airdate</th>\n",
       "      <th>rating</th>\n",
       "      <th>total_votes</th>\n",
       "      <th>description</th>\n",
       "      <th>episode</th>\n",
       "    </tr>\n",
       "  </thead>\n",
       "  <tbody>\n",
       "    <tr>\n",
       "      <th>0</th>\n",
       "      <td>1</td>\n",
       "      <td>01</td>\n",
       "      <td>Uno</td>\n",
       "      <td>2017-10-04</td>\n",
       "      <td>8.5</td>\n",
       "      <td>18386</td>\n",
       "      <td>Struggling public defender Jimmy McGill constr...</td>\n",
       "      <td>S1, Ep01</td>\n",
       "    </tr>\n",
       "    <tr>\n",
       "      <th>1</th>\n",
       "      <td>1</td>\n",
       "      <td>02</td>\n",
       "      <td>Mijo</td>\n",
       "      <td>2015-02-09</td>\n",
       "      <td>8.9</td>\n",
       "      <td>17409</td>\n",
       "      <td>Jimmy's latest scam has gone horribly wrong an...</td>\n",
       "      <td>S1, Ep02</td>\n",
       "    </tr>\n",
       "    <tr>\n",
       "      <th>2</th>\n",
       "      <td>1</td>\n",
       "      <td>03</td>\n",
       "      <td>Nacho</td>\n",
       "      <td>2015-02-16</td>\n",
       "      <td>8.7</td>\n",
       "      <td>14709</td>\n",
       "      <td>Jimmy must prove that Nacho is innocent when h...</td>\n",
       "      <td>S1, Ep03</td>\n",
       "    </tr>\n",
       "    <tr>\n",
       "      <th>3</th>\n",
       "      <td>1</td>\n",
       "      <td>04</td>\n",
       "      <td>Hero</td>\n",
       "      <td>2015-02-23</td>\n",
       "      <td>8.4</td>\n",
       "      <td>13260</td>\n",
       "      <td>Jimmy makes a bold move against Hamlin in an e...</td>\n",
       "      <td>S1, Ep04</td>\n",
       "    </tr>\n",
       "    <tr>\n",
       "      <th>4</th>\n",
       "      <td>1</td>\n",
       "      <td>05</td>\n",
       "      <td>Alpine Shepherd Boy</td>\n",
       "      <td>2015-03-02</td>\n",
       "      <td>8.0</td>\n",
       "      <td>12759</td>\n",
       "      <td>After a strange encounter with the police, Chu...</td>\n",
       "      <td>S1, Ep05</td>\n",
       "    </tr>\n",
       "  </tbody>\n",
       "</table>\n",
       "</div>"
      ],
      "text/plain": [
       "   season episode_number                title    airdate  rating  total_votes  \\\n",
       "0       1             01                  Uno 2017-10-04     8.5        18386   \n",
       "1       1             02                 Mijo 2015-02-09     8.9        17409   \n",
       "2       1             03                Nacho 2015-02-16     8.7        14709   \n",
       "3       1             04                 Hero 2015-02-23     8.4        13260   \n",
       "4       1             05  Alpine Shepherd Boy 2015-03-02     8.0        12759   \n",
       "\n",
       "                                         description   episode  \n",
       "0  Struggling public defender Jimmy McGill constr...  S1, Ep01  \n",
       "1  Jimmy's latest scam has gone horribly wrong an...  S1, Ep02  \n",
       "2  Jimmy must prove that Nacho is innocent when h...  S1, Ep03  \n",
       "3  Jimmy makes a bold move against Hamlin in an e...  S1, Ep04  \n",
       "4  After a strange encounter with the police, Chu...  S1, Ep05  "
      ]
     },
     "execution_count": 179,
     "metadata": {},
     "output_type": "execute_result"
    }
   ],
   "source": [
    "better_call_saul_episodes.head()\n"
   ]
  },
  {
   "cell_type": "markdown",
   "id": "eb338bbc-d7e3-4e87-b81a-1cf58bc80b03",
   "metadata": {},
   "source": [
    "<h2>Saving the data as a CSV file</h2>\n"
   ]
  },
  {
   "cell_type": "code",
   "execution_count": 180,
   "id": "c73791c6-47a1-4d38-87b1-eace1be29b94",
   "metadata": {
    "tags": []
   },
   "outputs": [],
   "source": [
    "better_call_saul_episodes.to_csv('better_call_saul_episodes_IMDb_Ratings.csv',index=False)"
   ]
  },
  {
   "cell_type": "markdown",
   "id": "088fe338-da51-4ddf-9b9e-2ca0f79f67de",
   "metadata": {},
   "source": [
    "<h2>Visualizing Data</h2>"
   ]
  },
  {
   "cell_type": "code",
   "execution_count": 181,
   "id": "8a2bba70-7091-4215-a62a-f781af6f5716",
   "metadata": {},
   "outputs": [
    {
     "data": {
      "image/png": "[encoded data removed]",
      "text/plain": [
       "<Figure size 2000x480 with 1 Axes>"
      ]
     },
     "metadata": {},
     "output_type": "display_data"
    }
   ],
   "source": [
    "import matplotlib.pyplot as plt\n",
    "import numpy as np\n",
    "\n",
    "plt.figure(figsize=(20,4.8))\n",
    "\n",
    "x = np.array(better_call_saul_episodes['episode'])\n",
    "y = np.array(better_call_saul_episodes['total_votes'])\n",
    "\n",
    "plt.title(\"Better call Saul - Total votes v Episode\")\n",
    "plt.xlabel(\"Episode\")\n",
    "plt.ylabel(\"Total Votes\")\n",
    "\n",
    "plt.bar(x, y)\n",
    "plt.xticks(rotation=90)\n",
    "\n",
    "\n",
    "plt.show()"
   ]
  },
  {
   "cell_type": "code",
   "execution_count": 182,
   "id": "3cf091a5-2d1a-4c63-b013-71b43139885c",
   "metadata": {},
   "outputs": [
    {
     "data": {
      "image/png": "[encoded data removed]",
      "text/plain": [
       "<Figure size 2000x480 with 1 Axes>"
      ]
     },
     "metadata": {},
     "output_type": "display_data"
    }
   ],
   "source": [
    "plt.figure(figsize=(20,4.8))\n",
    "\n",
    "xpoints = np.array(better_call_saul_episodes['episode'])\n",
    "ypoints = np.array(better_call_saul_episodes['rating'])\n",
    "\n",
    "\n",
    "plt.title(\"Better call Saul - IMDB ratings v Episodes\")\n",
    "plt.xlabel(\"Episode\")\n",
    "plt.ylabel(\"Rating\")\n",
    "\n",
    "plt.plot(xpoints,ypoints)\n",
    "plt.xticks(rotation=90)\n",
    "\n",
    "plt.show()"
   ]
  },
  {
   "cell_type": "markdown",
   "id": "0739c75c-ed5a-4fff-8bab-bf48059ddea3",
   "metadata": {},
   "source": [
    "<h2>Insights</h2>"
   ]
  },
  {
   "cell_type": "code",
   "execution_count": 183,
   "id": "6a6943ca-14da-47d6-80be-43eed7fcda78",
   "metadata": {
    "tags": []
   },
   "outputs": [
    {
     "name": "stdout",
     "output_type": "stream",
     "text": [
      "\n",
      "Descriptive statistics of whole dataframe:\n",
      "\n",
      "           season episode_number title              airdate     rating  \\\n",
      "count   63.000000             63    63                   63  63.000000   \n",
      "unique        NaN             13    63                   62        NaN   \n",
      "top           NaN             01   Uno  2022-04-18 00:00:00        NaN   \n",
      "freq          NaN              6     1                    2        NaN   \n",
      "first         NaN            NaN   NaN  2015-02-09 00:00:00        NaN   \n",
      "last          NaN            NaN   NaN  2022-08-15 00:00:00        NaN   \n",
      "mean     3.619048            NaN   NaN                  NaN   8.817460   \n",
      "std      1.763689            NaN   NaN                  NaN   0.510389   \n",
      "min      1.000000            NaN   NaN                  NaN   8.000000   \n",
      "25%      2.000000            NaN   NaN                  NaN   8.500000   \n",
      "50%      4.000000            NaN   NaN                  NaN   8.700000   \n",
      "75%      5.000000            NaN   NaN                  NaN   9.150000   \n",
      "max      6.000000            NaN   NaN                  NaN   9.900000   \n",
      "\n",
      "         total_votes                                        description  \\\n",
      "count      63.000000                                                 63   \n",
      "unique           NaN                                                 63   \n",
      "top              NaN  Struggling public defender Jimmy McGill constr...   \n",
      "freq             NaN                                                  1   \n",
      "first            NaN                                                NaN   \n",
      "last             NaN                                                NaN   \n",
      "mean    13726.031746                                                NaN   \n",
      "std      6987.553003                                                NaN   \n",
      "min      8284.000000                                                NaN   \n",
      "25%      9297.500000                                                NaN   \n",
      "50%     10946.000000                                                NaN   \n",
      "75%     15073.000000                                                NaN   \n",
      "max     42317.000000                                                NaN   \n",
      "\n",
      "         episode  \n",
      "count         63  \n",
      "unique        63  \n",
      "top     S1, Ep01  \n",
      "freq           1  \n",
      "first        NaN  \n",
      "last         NaN  \n",
      "mean         NaN  \n",
      "std          NaN  \n",
      "min          NaN  \n",
      "25%          NaN  \n",
      "50%          NaN  \n",
      "75%          NaN  \n",
      "max          NaN  \n"
     ]
    },
    {
     "name": "stderr",
     "output_type": "stream",
     "text": [
      "C:\\Users\\aravi\\AppData\\Local\\Temp\\ipykernel_1948\\1525126216.py:2: FutureWarning: Treating datetime data as categorical rather than numeric in `.describe` is deprecated and will be removed in a future version of pandas. Specify `datetime_is_numeric=True` to silence this warning and adopt the future behavior now.\n",
      "  stats = better_call_saul_episodes.describe(include = 'all')\n"
     ]
    }
   ],
   "source": [
    "print(\"\\nDescriptive statistics of whole dataframe:\\n\")\n",
    "stats = better_call_saul_episodes.describe(include = 'all')\n",
    "print(stats)"
   ]
  },
  {
   "cell_type": "code",
   "execution_count": 184,
   "id": "a1f350a3-3f5a-47d9-a3e3-977fdce0b222",
   "metadata": {
    "tags": []
   },
   "outputs": [
    {
     "data": {
      "text/plain": [
       "season                                                            6\n",
       "episode_number                                                   07\n",
       "title                                            Plan and Execution\n",
       "airdate                                         2022-05-23 00:00:00\n",
       "rating                                                          9.9\n",
       "total_votes                                                   41533\n",
       "description       Jimmy and Kim deal with a last-minute snag in ...\n",
       "episode                                                    S6, Ep07\n",
       "Name: 56, dtype: object"
      ]
     },
     "execution_count": 184,
     "metadata": {},
     "output_type": "execute_result"
    }
   ],
   "source": [
    "highest_rating = better_call_saul_episodes['rating'].idxmax()\n",
    "better_call_saul_episodes.loc[highest_rating]"
   ]
  },
  {
   "cell_type": "code",
   "execution_count": 185,
   "id": "a57b7379-e9f5-4867-97fc-dbafcfdc8023",
   "metadata": {
    "tags": []
   },
   "outputs": [
    {
     "data": {
      "text/plain": [
       "season                                                            6\n",
       "episode_number                                                   13\n",
       "title                                                     Saul Gone\n",
       "airdate                                         2022-08-15 00:00:00\n",
       "rating                                                          9.8\n",
       "total_votes                                                   42317\n",
       "description       Six years before he meets Walter White, small-...\n",
       "episode                                                    S6, Ep13\n",
       "Name: 62, dtype: object"
      ]
     },
     "execution_count": 185,
     "metadata": {},
     "output_type": "execute_result"
    }
   ],
   "source": [
    "highest_views = better_call_saul_episodes['total_votes'].idxmax()\n",
    "better_call_saul_episodes.loc[highest_views]"
   ]
  },
  {
   "cell_type": "markdown",
   "id": "bf0cca9d-8ae5-4cd2-940d-9503ec4521f6",
   "metadata": {},
   "source": [
    "<b>In conclusion, The average rating of this show is 8.817460. The episode with highest number of votes is Saul Gone(S6, Ep13) with nearly 43,000 votes. The highest rated episode of this series is Plan and Execution(S6, Ep07) with a rating of 9.9 .</b>"
   ]
  }
 ],
 "metadata": {
  "kernelspec": {
   "display_name": "Python 3 (ipykernel)",
   "language": "python",
   "name": "python3"
  },
  "language_info": {
   "codemirror_mode": {
    "name": "ipython",
    "version": 3
   },
   "file_extension": ".py",
   "mimetype": "text/x-python",
   "name": "python",
   "nbconvert_exporter": "python",
   "pygments_lexer": "ipython3",
   "version": "3.10.6"
  }
 },
 "nbformat": 4,
 "nbformat_minor": 5
}
